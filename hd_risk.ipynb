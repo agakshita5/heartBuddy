{
 "cells": [
  {
   "cell_type": "code",
   "execution_count": 1,
   "id": "899ec053",
   "metadata": {
    "_cell_guid": "b1076dfc-b9ad-4769-8c92-a6c4dae69d19",
    "_uuid": "8f2839f25d086af736a60e9eeb907d3b93b6e0e5",
    "execution": {
     "iopub.execute_input": "2025-04-16T21:16:40.293775Z",
     "iopub.status.busy": "2025-04-16T21:16:40.292837Z",
     "iopub.status.idle": "2025-04-16T21:16:45.742313Z",
     "shell.execute_reply": "2025-04-16T21:16:45.741212Z"
    },
    "papermill": {
     "duration": 5.4567,
     "end_time": "2025-04-16T21:16:45.744037",
     "exception": false,
     "start_time": "2025-04-16T21:16:40.287337",
     "status": "completed"
    },
    "tags": []
   },
   "outputs": [
    {
     "name": "stdout",
     "output_type": "stream",
     "text": [
      "/kaggle/input/heart-dataset/raw_merged_heart_dataset.csv\n",
      "/kaggle/input/heart-dataset/cleaned_merged_heart_dataset.csv\n"
     ]
    }
   ],
   "source": [
    "import pandas as pd\n",
    "import numpy as np\n",
    "from sklearn.model_selection import train_test_split\n",
    "from sklearn.ensemble import RandomForestClassifier\n",
    "from sklearn.metrics import classification_report, accuracy_score\n",
    "from sklearn.preprocessing import StandardScaler\n",
    "import matplotlib.pyplot as plt\n",
    "import seaborn as sn\n",
    "\n",
    "import os\n",
    "for dirname, _, filenames in os.walk('/kaggle/input'):\n",
    "    for filename in filenames:\n",
    "        print(os.path.join(dirname, filename))\n"
   ]
  },
  {
   "cell_type": "code",
   "execution_count": 2,
   "id": "5d555a95",
   "metadata": {
    "execution": {
     "iopub.execute_input": "2025-04-16T21:16:45.753259Z",
     "iopub.status.busy": "2025-04-16T21:16:45.752780Z",
     "iopub.status.idle": "2025-04-16T21:16:45.779432Z",
     "shell.execute_reply": "2025-04-16T21:16:45.778574Z"
    },
    "papermill": {
     "duration": 0.03288,
     "end_time": "2025-04-16T21:16:45.780979",
     "exception": false,
     "start_time": "2025-04-16T21:16:45.748099",
     "status": "completed"
    },
    "tags": []
   },
   "outputs": [
    {
     "data": {
      "text/plain": [
       "(1888, 14)"
      ]
     },
     "execution_count": 2,
     "metadata": {},
     "output_type": "execute_result"
    }
   ],
   "source": [
    "df= pd.read_csv('/kaggle/input/heart-dataset/cleaned_merged_heart_dataset.csv')\n",
    "\n",
    "df.shape"
   ]
  },
  {
   "cell_type": "code",
   "execution_count": 3,
   "id": "7291de98",
   "metadata": {
    "execution": {
     "iopub.execute_input": "2025-04-16T21:16:45.789810Z",
     "iopub.status.busy": "2025-04-16T21:16:45.789178Z",
     "iopub.status.idle": "2025-04-16T21:16:45.849401Z",
     "shell.execute_reply": "2025-04-16T21:16:45.848441Z"
    },
    "papermill": {
     "duration": 0.066165,
     "end_time": "2025-04-16T21:16:45.850946",
     "exception": false,
     "start_time": "2025-04-16T21:16:45.784781",
     "status": "completed"
    },
    "tags": []
   },
   "outputs": [
    {
     "data": {
      "text/html": [
       "<div>\n",
       "<style scoped>\n",
       "    .dataframe tbody tr th:only-of-type {\n",
       "        vertical-align: middle;\n",
       "    }\n",
       "\n",
       "    .dataframe tbody tr th {\n",
       "        vertical-align: top;\n",
       "    }\n",
       "\n",
       "    .dataframe thead th {\n",
       "        text-align: right;\n",
       "    }\n",
       "</style>\n",
       "<table border=\"1\" class=\"dataframe\">\n",
       "  <thead>\n",
       "    <tr style=\"text-align: right;\">\n",
       "      <th></th>\n",
       "      <th>age</th>\n",
       "      <th>sex</th>\n",
       "      <th>cp</th>\n",
       "      <th>trestbps</th>\n",
       "      <th>chol</th>\n",
       "      <th>fbs</th>\n",
       "      <th>restecg</th>\n",
       "      <th>thalachh</th>\n",
       "      <th>exang</th>\n",
       "      <th>oldpeak</th>\n",
       "      <th>slope</th>\n",
       "      <th>ca</th>\n",
       "      <th>thal</th>\n",
       "      <th>target</th>\n",
       "    </tr>\n",
       "  </thead>\n",
       "  <tbody>\n",
       "    <tr>\n",
       "      <th>count</th>\n",
       "      <td>1888.000000</td>\n",
       "      <td>1888.000000</td>\n",
       "      <td>1888.000000</td>\n",
       "      <td>1888.000000</td>\n",
       "      <td>1888.000000</td>\n",
       "      <td>1888.000000</td>\n",
       "      <td>1888.000000</td>\n",
       "      <td>1888.000000</td>\n",
       "      <td>1888.000000</td>\n",
       "      <td>1888.000000</td>\n",
       "      <td>1888.000000</td>\n",
       "      <td>1888.000000</td>\n",
       "      <td>1888.000000</td>\n",
       "      <td>1888.000000</td>\n",
       "    </tr>\n",
       "    <tr>\n",
       "      <th>mean</th>\n",
       "      <td>54.354343</td>\n",
       "      <td>0.688559</td>\n",
       "      <td>1.279131</td>\n",
       "      <td>131.549258</td>\n",
       "      <td>246.855403</td>\n",
       "      <td>0.148305</td>\n",
       "      <td>0.597458</td>\n",
       "      <td>149.424258</td>\n",
       "      <td>0.331568</td>\n",
       "      <td>1.053761</td>\n",
       "      <td>1.421610</td>\n",
       "      <td>0.731462</td>\n",
       "      <td>2.662606</td>\n",
       "      <td>0.517479</td>\n",
       "    </tr>\n",
       "    <tr>\n",
       "      <th>std</th>\n",
       "      <td>9.081505</td>\n",
       "      <td>0.463205</td>\n",
       "      <td>1.280877</td>\n",
       "      <td>17.556985</td>\n",
       "      <td>51.609329</td>\n",
       "      <td>0.355496</td>\n",
       "      <td>0.638820</td>\n",
       "      <td>23.006153</td>\n",
       "      <td>0.470901</td>\n",
       "      <td>1.161344</td>\n",
       "      <td>0.619588</td>\n",
       "      <td>1.015735</td>\n",
       "      <td>1.249924</td>\n",
       "      <td>0.499827</td>\n",
       "    </tr>\n",
       "    <tr>\n",
       "      <th>min</th>\n",
       "      <td>29.000000</td>\n",
       "      <td>0.000000</td>\n",
       "      <td>0.000000</td>\n",
       "      <td>94.000000</td>\n",
       "      <td>126.000000</td>\n",
       "      <td>0.000000</td>\n",
       "      <td>0.000000</td>\n",
       "      <td>71.000000</td>\n",
       "      <td>0.000000</td>\n",
       "      <td>0.000000</td>\n",
       "      <td>0.000000</td>\n",
       "      <td>0.000000</td>\n",
       "      <td>0.000000</td>\n",
       "      <td>0.000000</td>\n",
       "    </tr>\n",
       "    <tr>\n",
       "      <th>25%</th>\n",
       "      <td>47.750000</td>\n",
       "      <td>0.000000</td>\n",
       "      <td>0.000000</td>\n",
       "      <td>120.000000</td>\n",
       "      <td>211.000000</td>\n",
       "      <td>0.000000</td>\n",
       "      <td>0.000000</td>\n",
       "      <td>133.000000</td>\n",
       "      <td>0.000000</td>\n",
       "      <td>0.000000</td>\n",
       "      <td>1.000000</td>\n",
       "      <td>0.000000</td>\n",
       "      <td>2.000000</td>\n",
       "      <td>0.000000</td>\n",
       "    </tr>\n",
       "    <tr>\n",
       "      <th>50%</th>\n",
       "      <td>55.000000</td>\n",
       "      <td>1.000000</td>\n",
       "      <td>1.000000</td>\n",
       "      <td>130.000000</td>\n",
       "      <td>241.000000</td>\n",
       "      <td>0.000000</td>\n",
       "      <td>1.000000</td>\n",
       "      <td>152.000000</td>\n",
       "      <td>0.000000</td>\n",
       "      <td>0.800000</td>\n",
       "      <td>1.000000</td>\n",
       "      <td>0.000000</td>\n",
       "      <td>2.000000</td>\n",
       "      <td>1.000000</td>\n",
       "    </tr>\n",
       "    <tr>\n",
       "      <th>75%</th>\n",
       "      <td>61.000000</td>\n",
       "      <td>1.000000</td>\n",
       "      <td>2.000000</td>\n",
       "      <td>140.000000</td>\n",
       "      <td>276.000000</td>\n",
       "      <td>0.000000</td>\n",
       "      <td>1.000000</td>\n",
       "      <td>166.000000</td>\n",
       "      <td>1.000000</td>\n",
       "      <td>1.600000</td>\n",
       "      <td>2.000000</td>\n",
       "      <td>1.000000</td>\n",
       "      <td>3.000000</td>\n",
       "      <td>1.000000</td>\n",
       "    </tr>\n",
       "    <tr>\n",
       "      <th>max</th>\n",
       "      <td>77.000000</td>\n",
       "      <td>1.000000</td>\n",
       "      <td>4.000000</td>\n",
       "      <td>200.000000</td>\n",
       "      <td>564.000000</td>\n",
       "      <td>1.000000</td>\n",
       "      <td>2.000000</td>\n",
       "      <td>202.000000</td>\n",
       "      <td>1.000000</td>\n",
       "      <td>6.200000</td>\n",
       "      <td>3.000000</td>\n",
       "      <td>4.000000</td>\n",
       "      <td>7.000000</td>\n",
       "      <td>1.000000</td>\n",
       "    </tr>\n",
       "  </tbody>\n",
       "</table>\n",
       "</div>"
      ],
      "text/plain": [
       "               age          sex           cp     trestbps         chol  \\\n",
       "count  1888.000000  1888.000000  1888.000000  1888.000000  1888.000000   \n",
       "mean     54.354343     0.688559     1.279131   131.549258   246.855403   \n",
       "std       9.081505     0.463205     1.280877    17.556985    51.609329   \n",
       "min      29.000000     0.000000     0.000000    94.000000   126.000000   \n",
       "25%      47.750000     0.000000     0.000000   120.000000   211.000000   \n",
       "50%      55.000000     1.000000     1.000000   130.000000   241.000000   \n",
       "75%      61.000000     1.000000     2.000000   140.000000   276.000000   \n",
       "max      77.000000     1.000000     4.000000   200.000000   564.000000   \n",
       "\n",
       "               fbs      restecg     thalachh        exang      oldpeak  \\\n",
       "count  1888.000000  1888.000000  1888.000000  1888.000000  1888.000000   \n",
       "mean      0.148305     0.597458   149.424258     0.331568     1.053761   \n",
       "std       0.355496     0.638820    23.006153     0.470901     1.161344   \n",
       "min       0.000000     0.000000    71.000000     0.000000     0.000000   \n",
       "25%       0.000000     0.000000   133.000000     0.000000     0.000000   \n",
       "50%       0.000000     1.000000   152.000000     0.000000     0.800000   \n",
       "75%       0.000000     1.000000   166.000000     1.000000     1.600000   \n",
       "max       1.000000     2.000000   202.000000     1.000000     6.200000   \n",
       "\n",
       "             slope           ca         thal       target  \n",
       "count  1888.000000  1888.000000  1888.000000  1888.000000  \n",
       "mean      1.421610     0.731462     2.662606     0.517479  \n",
       "std       0.619588     1.015735     1.249924     0.499827  \n",
       "min       0.000000     0.000000     0.000000     0.000000  \n",
       "25%       1.000000     0.000000     2.000000     0.000000  \n",
       "50%       1.000000     0.000000     2.000000     1.000000  \n",
       "75%       2.000000     1.000000     3.000000     1.000000  \n",
       "max       3.000000     4.000000     7.000000     1.000000  "
      ]
     },
     "execution_count": 3,
     "metadata": {},
     "output_type": "execute_result"
    }
   ],
   "source": [
    "df.describe()"
   ]
  },
  {
   "cell_type": "code",
   "execution_count": 4,
   "id": "c6bf03b4",
   "metadata": {
    "execution": {
     "iopub.execute_input": "2025-04-16T21:16:45.860753Z",
     "iopub.status.busy": "2025-04-16T21:16:45.859887Z",
     "iopub.status.idle": "2025-04-16T21:16:45.886037Z",
     "shell.execute_reply": "2025-04-16T21:16:45.884994Z"
    },
    "papermill": {
     "duration": 0.032308,
     "end_time": "2025-04-16T21:16:45.887462",
     "exception": false,
     "start_time": "2025-04-16T21:16:45.855154",
     "status": "completed"
    },
    "tags": []
   },
   "outputs": [
    {
     "name": "stdout",
     "output_type": "stream",
     "text": [
      "<class 'pandas.core.frame.DataFrame'>\n",
      "RangeIndex: 1888 entries, 0 to 1887\n",
      "Data columns (total 14 columns):\n",
      " #   Column    Non-Null Count  Dtype  \n",
      "---  ------    --------------  -----  \n",
      " 0   age       1888 non-null   int64  \n",
      " 1   sex       1888 non-null   int64  \n",
      " 2   cp        1888 non-null   int64  \n",
      " 3   trestbps  1888 non-null   int64  \n",
      " 4   chol      1888 non-null   int64  \n",
      " 5   fbs       1888 non-null   int64  \n",
      " 6   restecg   1888 non-null   int64  \n",
      " 7   thalachh  1888 non-null   int64  \n",
      " 8   exang     1888 non-null   int64  \n",
      " 9   oldpeak   1888 non-null   float64\n",
      " 10  slope     1888 non-null   int64  \n",
      " 11  ca        1888 non-null   int64  \n",
      " 12  thal      1888 non-null   int64  \n",
      " 13  target    1888 non-null   int64  \n",
      "dtypes: float64(1), int64(13)\n",
      "memory usage: 206.6 KB\n"
     ]
    }
   ],
   "source": [
    "df.info()"
   ]
  },
  {
   "cell_type": "code",
   "execution_count": 5,
   "id": "64f3dd9d",
   "metadata": {
    "execution": {
     "iopub.execute_input": "2025-04-16T21:16:45.897196Z",
     "iopub.status.busy": "2025-04-16T21:16:45.896614Z",
     "iopub.status.idle": "2025-04-16T21:16:45.910614Z",
     "shell.execute_reply": "2025-04-16T21:16:45.909536Z"
    },
    "papermill": {
     "duration": 0.020439,
     "end_time": "2025-04-16T21:16:45.912175",
     "exception": false,
     "start_time": "2025-04-16T21:16:45.891736",
     "status": "completed"
    },
    "tags": []
   },
   "outputs": [
    {
     "data": {
      "text/plain": [
       "1286"
      ]
     },
     "execution_count": 5,
     "metadata": {},
     "output_type": "execute_result"
    }
   ],
   "source": [
    "len(df[df.duplicated()])"
   ]
  },
  {
   "cell_type": "code",
   "execution_count": 6,
   "id": "dcdc7269",
   "metadata": {
    "execution": {
     "iopub.execute_input": "2025-04-16T21:16:45.921516Z",
     "iopub.status.busy": "2025-04-16T21:16:45.921221Z",
     "iopub.status.idle": "2025-04-16T21:16:45.928128Z",
     "shell.execute_reply": "2025-04-16T21:16:45.927387Z"
    },
    "papermill": {
     "duration": 0.013337,
     "end_time": "2025-04-16T21:16:45.929705",
     "exception": false,
     "start_time": "2025-04-16T21:16:45.916368",
     "status": "completed"
    },
    "tags": []
   },
   "outputs": [],
   "source": [
    "df = df.drop_duplicates()"
   ]
  },
  {
   "cell_type": "code",
   "execution_count": 7,
   "id": "df90c8fa",
   "metadata": {
    "execution": {
     "iopub.execute_input": "2025-04-16T21:16:45.939566Z",
     "iopub.status.busy": "2025-04-16T21:16:45.938890Z",
     "iopub.status.idle": "2025-04-16T21:16:45.944488Z",
     "shell.execute_reply": "2025-04-16T21:16:45.943614Z"
    },
    "papermill": {
     "duration": 0.011776,
     "end_time": "2025-04-16T21:16:45.945750",
     "exception": false,
     "start_time": "2025-04-16T21:16:45.933974",
     "status": "completed"
    },
    "tags": []
   },
   "outputs": [
    {
     "data": {
      "text/plain": [
       "(602, 14)"
      ]
     },
     "execution_count": 7,
     "metadata": {},
     "output_type": "execute_result"
    }
   ],
   "source": [
    "df.shape"
   ]
  },
  {
   "cell_type": "code",
   "execution_count": 8,
   "id": "1691c5f0",
   "metadata": {
    "execution": {
     "iopub.execute_input": "2025-04-16T21:16:45.955764Z",
     "iopub.status.busy": "2025-04-16T21:16:45.954921Z",
     "iopub.status.idle": "2025-04-16T21:16:45.960729Z",
     "shell.execute_reply": "2025-04-16T21:16:45.959961Z"
    },
    "papermill": {
     "duration": 0.011901,
     "end_time": "2025-04-16T21:16:45.961935",
     "exception": false,
     "start_time": "2025-04-16T21:16:45.950034",
     "status": "completed"
    },
    "tags": []
   },
   "outputs": [
    {
     "data": {
      "text/plain": [
       "Index(['age', 'sex', 'cp', 'trestbps', 'chol', 'fbs', 'restecg', 'thalachh',\n",
       "       'exang', 'oldpeak', 'slope', 'ca', 'thal', 'target'],\n",
       "      dtype='object')"
      ]
     },
     "execution_count": 8,
     "metadata": {},
     "output_type": "execute_result"
    }
   ],
   "source": [
    "df.columns"
   ]
  },
  {
   "cell_type": "code",
   "execution_count": 9,
   "id": "a2c5e4ab",
   "metadata": {
    "execution": {
     "iopub.execute_input": "2025-04-16T21:16:45.971657Z",
     "iopub.status.busy": "2025-04-16T21:16:45.971340Z",
     "iopub.status.idle": "2025-04-16T21:16:45.977969Z",
     "shell.execute_reply": "2025-04-16T21:16:45.977131Z"
    },
    "papermill": {
     "duration": 0.013142,
     "end_time": "2025-04-16T21:16:45.979422",
     "exception": false,
     "start_time": "2025-04-16T21:16:45.966280",
     "status": "completed"
    },
    "tags": []
   },
   "outputs": [
    {
     "data": {
      "text/plain": [
       "Index(['age', 'sex', 'cp', 'bps', 'chol', 'fbs', 'restecg', 'mhr', 'exang',\n",
       "       'oldpeak', 'slope', 'ca', 'thal', 'target'],\n",
       "      dtype='object')"
      ]
     },
     "execution_count": 9,
     "metadata": {},
     "output_type": "execute_result"
    }
   ],
   "source": [
    "df = df.rename(columns={\n",
    "    'trestbps': 'bps',\n",
    "    'thalachh': 'mhr'\n",
    "})\n",
    "\n",
    "df.columns"
   ]
  },
  {
   "cell_type": "code",
   "execution_count": 10,
   "id": "bff931ec",
   "metadata": {
    "execution": {
     "iopub.execute_input": "2025-04-16T21:16:45.989402Z",
     "iopub.status.busy": "2025-04-16T21:16:45.988660Z",
     "iopub.status.idle": "2025-04-16T21:16:45.997121Z",
     "shell.execute_reply": "2025-04-16T21:16:45.996429Z"
    },
    "papermill": {
     "duration": 0.01482,
     "end_time": "2025-04-16T21:16:45.998572",
     "exception": false,
     "start_time": "2025-04-16T21:16:45.983752",
     "status": "completed"
    },
    "tags": []
   },
   "outputs": [],
   "source": [
    "X = df.drop('target', axis=1)\n",
    "y = df['target']\n",
    "\n",
    "X_train, X_test, y_train, y_test = train_test_split(\n",
    "    X, y, test_size=0.2, random_state=42, stratify=y)"
   ]
  },
  {
   "cell_type": "code",
   "execution_count": 11,
   "id": "d1965406",
   "metadata": {
    "execution": {
     "iopub.execute_input": "2025-04-16T21:16:46.011207Z",
     "iopub.status.busy": "2025-04-16T21:16:46.010176Z",
     "iopub.status.idle": "2025-04-16T21:16:46.023158Z",
     "shell.execute_reply": "2025-04-16T21:16:46.022305Z"
    },
    "papermill": {
     "duration": 0.020012,
     "end_time": "2025-04-16T21:16:46.024703",
     "exception": false,
     "start_time": "2025-04-16T21:16:46.004691",
     "status": "completed"
    },
    "tags": []
   },
   "outputs": [],
   "source": [
    "scaler = StandardScaler()\n",
    "numerical_cols = ['age', 'bps', 'chol', 'mhr']\n",
    "X_train[numerical_cols] = scaler.fit_transform(X_train[numerical_cols])\n",
    "X_test[numerical_cols] = scaler.transform(X_test[numerical_cols])"
   ]
  },
  {
   "cell_type": "code",
   "execution_count": 12,
   "id": "a453f395",
   "metadata": {
    "execution": {
     "iopub.execute_input": "2025-04-16T21:16:46.034896Z",
     "iopub.status.busy": "2025-04-16T21:16:46.034586Z",
     "iopub.status.idle": "2025-04-16T21:16:46.223193Z",
     "shell.execute_reply": "2025-04-16T21:16:46.222039Z"
    },
    "papermill": {
     "duration": 0.195567,
     "end_time": "2025-04-16T21:16:46.224705",
     "exception": false,
     "start_time": "2025-04-16T21:16:46.029138",
     "status": "completed"
    },
    "tags": []
   },
   "outputs": [
    {
     "data": {
      "text/html": [
       "<style>#sk-container-id-1 {color: black;background-color: white;}#sk-container-id-1 pre{padding: 0;}#sk-container-id-1 div.sk-toggleable {background-color: white;}#sk-container-id-1 label.sk-toggleable__label {cursor: pointer;display: block;width: 100%;margin-bottom: 0;padding: 0.3em;box-sizing: border-box;text-align: center;}#sk-container-id-1 label.sk-toggleable__label-arrow:before {content: \"▸\";float: left;margin-right: 0.25em;color: #696969;}#sk-container-id-1 label.sk-toggleable__label-arrow:hover:before {color: black;}#sk-container-id-1 div.sk-estimator:hover label.sk-toggleable__label-arrow:before {color: black;}#sk-container-id-1 div.sk-toggleable__content {max-height: 0;max-width: 0;overflow: hidden;text-align: left;background-color: #f0f8ff;}#sk-container-id-1 div.sk-toggleable__content pre {margin: 0.2em;color: black;border-radius: 0.25em;background-color: #f0f8ff;}#sk-container-id-1 input.sk-toggleable__control:checked~div.sk-toggleable__content {max-height: 200px;max-width: 100%;overflow: auto;}#sk-container-id-1 input.sk-toggleable__control:checked~label.sk-toggleable__label-arrow:before {content: \"▾\";}#sk-container-id-1 div.sk-estimator input.sk-toggleable__control:checked~label.sk-toggleable__label {background-color: #d4ebff;}#sk-container-id-1 div.sk-label input.sk-toggleable__control:checked~label.sk-toggleable__label {background-color: #d4ebff;}#sk-container-id-1 input.sk-hidden--visually {border: 0;clip: rect(1px 1px 1px 1px);clip: rect(1px, 1px, 1px, 1px);height: 1px;margin: -1px;overflow: hidden;padding: 0;position: absolute;width: 1px;}#sk-container-id-1 div.sk-estimator {font-family: monospace;background-color: #f0f8ff;border: 1px dotted black;border-radius: 0.25em;box-sizing: border-box;margin-bottom: 0.5em;}#sk-container-id-1 div.sk-estimator:hover {background-color: #d4ebff;}#sk-container-id-1 div.sk-parallel-item::after {content: \"\";width: 100%;border-bottom: 1px solid gray;flex-grow: 1;}#sk-container-id-1 div.sk-label:hover label.sk-toggleable__label {background-color: #d4ebff;}#sk-container-id-1 div.sk-serial::before {content: \"\";position: absolute;border-left: 1px solid gray;box-sizing: border-box;top: 0;bottom: 0;left: 50%;z-index: 0;}#sk-container-id-1 div.sk-serial {display: flex;flex-direction: column;align-items: center;background-color: white;padding-right: 0.2em;padding-left: 0.2em;position: relative;}#sk-container-id-1 div.sk-item {position: relative;z-index: 1;}#sk-container-id-1 div.sk-parallel {display: flex;align-items: stretch;justify-content: center;background-color: white;position: relative;}#sk-container-id-1 div.sk-item::before, #sk-container-id-1 div.sk-parallel-item::before {content: \"\";position: absolute;border-left: 1px solid gray;box-sizing: border-box;top: 0;bottom: 0;left: 50%;z-index: -1;}#sk-container-id-1 div.sk-parallel-item {display: flex;flex-direction: column;z-index: 1;position: relative;background-color: white;}#sk-container-id-1 div.sk-parallel-item:first-child::after {align-self: flex-end;width: 50%;}#sk-container-id-1 div.sk-parallel-item:last-child::after {align-self: flex-start;width: 50%;}#sk-container-id-1 div.sk-parallel-item:only-child::after {width: 0;}#sk-container-id-1 div.sk-dashed-wrapped {border: 1px dashed gray;margin: 0 0.4em 0.5em 0.4em;box-sizing: border-box;padding-bottom: 0.4em;background-color: white;}#sk-container-id-1 div.sk-label label {font-family: monospace;font-weight: bold;display: inline-block;line-height: 1.2em;}#sk-container-id-1 div.sk-label-container {text-align: center;}#sk-container-id-1 div.sk-container {/* jupyter's `normalize.less` sets `[hidden] { display: none; }` but bootstrap.min.css set `[hidden] { display: none !important; }` so we also need the `!important` here to be able to override the default hidden behavior on the sphinx rendered scikit-learn.org. See: https://github.com/scikit-learn/scikit-learn/issues/21755 */display: inline-block !important;position: relative;}#sk-container-id-1 div.sk-text-repr-fallback {display: none;}</style><div id=\"sk-container-id-1\" class=\"sk-top-container\"><div class=\"sk-text-repr-fallback\"><pre>RandomForestClassifier(random_state=42)</pre><b>In a Jupyter environment, please rerun this cell to show the HTML representation or trust the notebook. <br />On GitHub, the HTML representation is unable to render, please try loading this page with nbviewer.org.</b></div><div class=\"sk-container\" hidden><div class=\"sk-item\"><div class=\"sk-estimator sk-toggleable\"><input class=\"sk-toggleable__control sk-hidden--visually\" id=\"sk-estimator-id-1\" type=\"checkbox\" checked><label for=\"sk-estimator-id-1\" class=\"sk-toggleable__label sk-toggleable__label-arrow\">RandomForestClassifier</label><div class=\"sk-toggleable__content\"><pre>RandomForestClassifier(random_state=42)</pre></div></div></div></div></div>"
      ],
      "text/plain": [
       "RandomForestClassifier(random_state=42)"
      ]
     },
     "execution_count": 12,
     "metadata": {},
     "output_type": "execute_result"
    }
   ],
   "source": [
    "model = RandomForestClassifier(n_estimators=100, random_state=42)\n",
    "model.fit(X_train, y_train)"
   ]
  },
  {
   "cell_type": "code",
   "execution_count": 13,
   "id": "0ee0d09d",
   "metadata": {
    "execution": {
     "iopub.execute_input": "2025-04-16T21:16:46.235491Z",
     "iopub.status.busy": "2025-04-16T21:16:46.235155Z",
     "iopub.status.idle": "2025-04-16T21:16:46.268630Z",
     "shell.execute_reply": "2025-04-16T21:16:46.267508Z"
    },
    "papermill": {
     "duration": 0.040694,
     "end_time": "2025-04-16T21:16:46.270339",
     "exception": false,
     "start_time": "2025-04-16T21:16:46.229645",
     "status": "completed"
    },
    "tags": []
   },
   "outputs": [
    {
     "name": "stdout",
     "output_type": "stream",
     "text": [
      "Classification Report:\n",
      "              precision    recall  f1-score   support\n",
      "\n",
      "           0       0.79      0.85      0.82        62\n",
      "           1       0.83      0.76      0.80        59\n",
      "\n",
      "    accuracy                           0.81       121\n",
      "   macro avg       0.81      0.81      0.81       121\n",
      "weighted avg       0.81      0.81      0.81       121\n",
      "\n",
      "\n",
      "Accuracy:\n",
      "80.99%\n"
     ]
    }
   ],
   "source": [
    "y_pred = model.predict(X_test)\n",
    "y_prob = model.predict_proba(X_test)[:, 1]\n",
    "\n",
    "print(\"Classification Report:\")\n",
    "print(classification_report(y_test, y_pred))\n",
    "\n",
    "print(\"\\nAccuracy:\")\n",
    "print(f\"{accuracy_score(y_test, y_pred) * 100:.2f}%\")"
   ]
  },
  {
   "cell_type": "code",
   "execution_count": 14,
   "id": "0aafbb02",
   "metadata": {
    "execution": {
     "iopub.execute_input": "2025-04-16T21:16:46.280961Z",
     "iopub.status.busy": "2025-04-16T21:16:46.280637Z",
     "iopub.status.idle": "2025-04-16T21:16:46.286275Z",
     "shell.execute_reply": "2025-04-16T21:16:46.285444Z"
    },
    "papermill": {
     "duration": 0.0125,
     "end_time": "2025-04-16T21:16:46.287614",
     "exception": false,
     "start_time": "2025-04-16T21:16:46.275114",
     "status": "completed"
    },
    "tags": []
   },
   "outputs": [],
   "source": [
    "# Risk stratification\n",
    "\n",
    "risk_groups = []\n",
    "for prob in y_prob:\n",
    "    if prob < 0.3:\n",
    "        risk_groups.append('Low')\n",
    "    elif prob < 0.7:\n",
    "        risk_groups.append('Medium')\n",
    "    else:\n",
    "        risk_groups.append('High')"
   ]
  },
  {
   "cell_type": "code",
   "execution_count": 15,
   "id": "10742b9c",
   "metadata": {
    "execution": {
     "iopub.execute_input": "2025-04-16T21:16:46.298229Z",
     "iopub.status.busy": "2025-04-16T21:16:46.297871Z",
     "iopub.status.idle": "2025-04-16T21:16:46.578890Z",
     "shell.execute_reply": "2025-04-16T21:16:46.578082Z"
    },
    "papermill": {
     "duration": 0.288038,
     "end_time": "2025-04-16T21:16:46.580422",
     "exception": false,
     "start_time": "2025-04-16T21:16:46.292384",
     "status": "completed"
    },
    "tags": []
   },
   "outputs": [
    {
     "data": {
      "image/png": "[encoded data removed]",
      "text/plain": [
       "<Figure size 640x480 with 1 Axes>"
      ]
     },
     "metadata": {},
     "output_type": "display_data"
    }
   ],
   "source": [
    "# Plot risk distribution\n",
    "\n",
    "sn.countplot(x=risk_groups, order=['Low', 'Medium', 'High'], palette='rocket')\n",
    "plt.title('Distribution of Risk Groups')\n",
    "plt.xlabel('Risk Group')\n",
    "plt.ylabel('Number of Patients')\n",
    "plt.show()"
   ]
  },
  {
   "cell_type": "code",
   "execution_count": 16,
   "id": "4b5d085f",
   "metadata": {
    "execution": {
     "iopub.execute_input": "2025-04-16T21:16:46.592173Z",
     "iopub.status.busy": "2025-04-16T21:16:46.591806Z",
     "iopub.status.idle": "2025-04-16T21:16:46.609642Z",
     "shell.execute_reply": "2025-04-16T21:16:46.608197Z"
    },
    "papermill": {
     "duration": 0.025423,
     "end_time": "2025-04-16T21:16:46.611245",
     "exception": false,
     "start_time": "2025-04-16T21:16:46.585822",
     "status": "completed"
    },
    "tags": []
   },
   "outputs": [
    {
     "name": "stdout",
     "output_type": "stream",
     "text": [
      "\n",
      "Feature Importance:\n",
      "    Feature  Importance\n",
      "12     thal    0.176930\n",
      "7       mhr    0.105801\n",
      "2        cp    0.102978\n",
      "10    slope    0.097817\n",
      "0       age    0.093764\n",
      "4      chol    0.091328\n",
      "3       bps    0.084236\n",
      "9   oldpeak    0.082726\n",
      "11       ca    0.062386\n",
      "6   restecg    0.039221\n",
      "1       sex    0.025081\n",
      "8     exang    0.024150\n",
      "5       fbs    0.013582\n"
     ]
    }
   ],
   "source": [
    "# Feature importance\n",
    "feature_importance = pd.DataFrame({\n",
    "    'Feature': X.columns,\n",
    "    'Importance': model.feature_importances_\n",
    "}).sort_values('Importance', ascending=False)\n",
    "\n",
    "print(\"\\nFeature Importance:\")\n",
    "print(feature_importance)"
   ]
  },
  {
   "cell_type": "code",
   "execution_count": 17,
   "id": "fca81ad9",
   "metadata": {
    "execution": {
     "iopub.execute_input": "2025-04-16T21:16:46.622573Z",
     "iopub.status.busy": "2025-04-16T21:16:46.622210Z",
     "iopub.status.idle": "2025-04-16T21:16:46.641438Z",
     "shell.execute_reply": "2025-04-16T21:16:46.640455Z"
    },
    "papermill": {
     "duration": 0.026621,
     "end_time": "2025-04-16T21:16:46.643050",
     "exception": false,
     "start_time": "2025-04-16T21:16:46.616429",
     "status": "completed"
    },
    "tags": []
   },
   "outputs": [
    {
     "data": {
      "text/html": [
       "<div>\n",
       "<style scoped>\n",
       "    .dataframe tbody tr th:only-of-type {\n",
       "        vertical-align: middle;\n",
       "    }\n",
       "\n",
       "    .dataframe tbody tr th {\n",
       "        vertical-align: top;\n",
       "    }\n",
       "\n",
       "    .dataframe thead th {\n",
       "        text-align: right;\n",
       "    }\n",
       "</style>\n",
       "<table border=\"1\" class=\"dataframe\">\n",
       "  <thead>\n",
       "    <tr style=\"text-align: right;\">\n",
       "      <th></th>\n",
       "      <th>age</th>\n",
       "      <th>sex</th>\n",
       "      <th>cp</th>\n",
       "      <th>bps</th>\n",
       "      <th>chol</th>\n",
       "      <th>fbs</th>\n",
       "      <th>restecg</th>\n",
       "      <th>mhr</th>\n",
       "      <th>exang</th>\n",
       "      <th>oldpeak</th>\n",
       "      <th>slope</th>\n",
       "      <th>ca</th>\n",
       "      <th>thal</th>\n",
       "      <th>Actual</th>\n",
       "      <th>Predicted</th>\n",
       "      <th>Probability</th>\n",
       "      <th>Risk_Group</th>\n",
       "    </tr>\n",
       "  </thead>\n",
       "  <tbody>\n",
       "    <tr>\n",
       "      <th>223</th>\n",
       "      <td>0.131583</td>\n",
       "      <td>0</td>\n",
       "      <td>0</td>\n",
       "      <td>3.804138</td>\n",
       "      <td>0.763113</td>\n",
       "      <td>1</td>\n",
       "      <td>0</td>\n",
       "      <td>-0.668744</td>\n",
       "      <td>1</td>\n",
       "      <td>4.0</td>\n",
       "      <td>0</td>\n",
       "      <td>2</td>\n",
       "      <td>3</td>\n",
       "      <td>0</td>\n",
       "      <td>0</td>\n",
       "      <td>0.07</td>\n",
       "      <td>Low</td>\n",
       "    </tr>\n",
       "    <tr>\n",
       "      <th>1568</th>\n",
       "      <td>-0.313348</td>\n",
       "      <td>1</td>\n",
       "      <td>2</td>\n",
       "      <td>-0.690833</td>\n",
       "      <td>1.473942</td>\n",
       "      <td>0</td>\n",
       "      <td>0</td>\n",
       "      <td>0.987576</td>\n",
       "      <td>0</td>\n",
       "      <td>0.2</td>\n",
       "      <td>1</td>\n",
       "      <td>0</td>\n",
       "      <td>3</td>\n",
       "      <td>0</td>\n",
       "      <td>0</td>\n",
       "      <td>0.20</td>\n",
       "      <td>Low</td>\n",
       "    </tr>\n",
       "    <tr>\n",
       "      <th>1489</th>\n",
       "      <td>-1.870605</td>\n",
       "      <td>1</td>\n",
       "      <td>1</td>\n",
       "      <td>-0.690833</td>\n",
       "      <td>-0.331950</td>\n",
       "      <td>0</td>\n",
       "      <td>0</td>\n",
       "      <td>1.412274</td>\n",
       "      <td>1</td>\n",
       "      <td>3.8</td>\n",
       "      <td>2</td>\n",
       "      <td>0</td>\n",
       "      <td>7</td>\n",
       "      <td>1</td>\n",
       "      <td>0</td>\n",
       "      <td>0.45</td>\n",
       "      <td>Medium</td>\n",
       "    </tr>\n",
       "    <tr>\n",
       "      <th>1531</th>\n",
       "      <td>0.576514</td>\n",
       "      <td>1</td>\n",
       "      <td>4</td>\n",
       "      <td>-0.409897</td>\n",
       "      <td>0.186764</td>\n",
       "      <td>0</td>\n",
       "      <td>2</td>\n",
       "      <td>-0.328986</td>\n",
       "      <td>1</td>\n",
       "      <td>2.8</td>\n",
       "      <td>2</td>\n",
       "      <td>1</td>\n",
       "      <td>7</td>\n",
       "      <td>1</td>\n",
       "      <td>1</td>\n",
       "      <td>0.98</td>\n",
       "      <td>High</td>\n",
       "    </tr>\n",
       "    <tr>\n",
       "      <th>1580</th>\n",
       "      <td>-1.203209</td>\n",
       "      <td>1</td>\n",
       "      <td>2</td>\n",
       "      <td>-0.128962</td>\n",
       "      <td>-0.562489</td>\n",
       "      <td>0</td>\n",
       "      <td>2</td>\n",
       "      <td>1.667092</td>\n",
       "      <td>0</td>\n",
       "      <td>0.0</td>\n",
       "      <td>1</td>\n",
       "      <td>0</td>\n",
       "      <td>3</td>\n",
       "      <td>0</td>\n",
       "      <td>0</td>\n",
       "      <td>0.09</td>\n",
       "      <td>Low</td>\n",
       "    </tr>\n",
       "    <tr>\n",
       "      <th>1567</th>\n",
       "      <td>-0.869511</td>\n",
       "      <td>1</td>\n",
       "      <td>3</td>\n",
       "      <td>0.320535</td>\n",
       "      <td>0.167552</td>\n",
       "      <td>0</td>\n",
       "      <td>2</td>\n",
       "      <td>0.308060</td>\n",
       "      <td>0</td>\n",
       "      <td>0.0</td>\n",
       "      <td>1</td>\n",
       "      <td>0</td>\n",
       "      <td>3</td>\n",
       "      <td>0</td>\n",
       "      <td>0</td>\n",
       "      <td>0.19</td>\n",
       "      <td>Low</td>\n",
       "    </tr>\n",
       "    <tr>\n",
       "      <th>1350</th>\n",
       "      <td>-0.758278</td>\n",
       "      <td>1</td>\n",
       "      <td>2</td>\n",
       "      <td>-0.128962</td>\n",
       "      <td>-0.062987</td>\n",
       "      <td>0</td>\n",
       "      <td>2</td>\n",
       "      <td>1.327334</td>\n",
       "      <td>0</td>\n",
       "      <td>0.2</td>\n",
       "      <td>2</td>\n",
       "      <td>0</td>\n",
       "      <td>3</td>\n",
       "      <td>0</td>\n",
       "      <td>0</td>\n",
       "      <td>0.20</td>\n",
       "      <td>Low</td>\n",
       "    </tr>\n",
       "    <tr>\n",
       "      <th>295</th>\n",
       "      <td>0.910212</td>\n",
       "      <td>1</td>\n",
       "      <td>0</td>\n",
       "      <td>0.432910</td>\n",
       "      <td>-1.177261</td>\n",
       "      <td>0</td>\n",
       "      <td>0</td>\n",
       "      <td>-0.201577</td>\n",
       "      <td>1</td>\n",
       "      <td>4.0</td>\n",
       "      <td>2</td>\n",
       "      <td>2</td>\n",
       "      <td>3</td>\n",
       "      <td>0</td>\n",
       "      <td>0</td>\n",
       "      <td>0.18</td>\n",
       "      <td>Low</td>\n",
       "    </tr>\n",
       "    <tr>\n",
       "      <th>160</th>\n",
       "      <td>0.131583</td>\n",
       "      <td>1</td>\n",
       "      <td>1</td>\n",
       "      <td>-0.690833</td>\n",
       "      <td>-0.159045</td>\n",
       "      <td>0</td>\n",
       "      <td>1</td>\n",
       "      <td>0.860167</td>\n",
       "      <td>0</td>\n",
       "      <td>0.0</td>\n",
       "      <td>0</td>\n",
       "      <td>0</td>\n",
       "      <td>2</td>\n",
       "      <td>1</td>\n",
       "      <td>1</td>\n",
       "      <td>0.68</td>\n",
       "      <td>Medium</td>\n",
       "    </tr>\n",
       "    <tr>\n",
       "      <th>219</th>\n",
       "      <td>-0.758278</td>\n",
       "      <td>1</td>\n",
       "      <td>0</td>\n",
       "      <td>-0.128962</td>\n",
       "      <td>0.148341</td>\n",
       "      <td>1</td>\n",
       "      <td>0</td>\n",
       "      <td>0.053242</td>\n",
       "      <td>1</td>\n",
       "      <td>0.0</td>\n",
       "      <td>2</td>\n",
       "      <td>2</td>\n",
       "      <td>3</td>\n",
       "      <td>0</td>\n",
       "      <td>0</td>\n",
       "      <td>0.35</td>\n",
       "      <td>Medium</td>\n",
       "    </tr>\n",
       "  </tbody>\n",
       "</table>\n",
       "</div>"
      ],
      "text/plain": [
       "           age  sex  cp       bps      chol  fbs  restecg       mhr  exang  \\\n",
       "223   0.131583    0   0  3.804138  0.763113    1        0 -0.668744      1   \n",
       "1568 -0.313348    1   2 -0.690833  1.473942    0        0  0.987576      0   \n",
       "1489 -1.870605    1   1 -0.690833 -0.331950    0        0  1.412274      1   \n",
       "1531  0.576514    1   4 -0.409897  0.186764    0        2 -0.328986      1   \n",
       "1580 -1.203209    1   2 -0.128962 -0.562489    0        2  1.667092      0   \n",
       "1567 -0.869511    1   3  0.320535  0.167552    0        2  0.308060      0   \n",
       "1350 -0.758278    1   2 -0.128962 -0.062987    0        2  1.327334      0   \n",
       "295   0.910212    1   0  0.432910 -1.177261    0        0 -0.201577      1   \n",
       "160   0.131583    1   1 -0.690833 -0.159045    0        1  0.860167      0   \n",
       "219  -0.758278    1   0 -0.128962  0.148341    1        0  0.053242      1   \n",
       "\n",
       "      oldpeak  slope  ca  thal  Actual  Predicted  Probability Risk_Group  \n",
       "223       4.0      0   2     3       0          0         0.07        Low  \n",
       "1568      0.2      1   0     3       0          0         0.20        Low  \n",
       "1489      3.8      2   0     7       1          0         0.45     Medium  \n",
       "1531      2.8      2   1     7       1          1         0.98       High  \n",
       "1580      0.0      1   0     3       0          0         0.09        Low  \n",
       "1567      0.0      1   0     3       0          0         0.19        Low  \n",
       "1350      0.2      2   0     3       0          0         0.20        Low  \n",
       "295       4.0      2   2     3       0          0         0.18        Low  \n",
       "160       0.0      0   0     2       1          1         0.68     Medium  \n",
       "219       0.0      2   2     3       0          0         0.35     Medium  "
      ]
     },
     "execution_count": 17,
     "metadata": {},
     "output_type": "execute_result"
    }
   ],
   "source": [
    "# Add risk groups to test data for analysis \n",
    "test_results = X_test.copy()\n",
    "test_results['Actual'] = y_test\n",
    "test_results['Predicted'] = y_pred\n",
    "test_results['Probability'] = y_prob\n",
    "test_results['Risk_Group'] = risk_groups\n",
    "\n",
    "test_results.head(10)"
   ]
  },
  {
   "cell_type": "code",
   "execution_count": null,
   "id": "233b4a3b",
   "metadata": {
    "papermill": {
     "duration": 0.005034,
     "end_time": "2025-04-16T21:16:46.653668",
     "exception": false,
     "start_time": "2025-04-16T21:16:46.648634",
     "status": "completed"
    },
    "tags": []
   },
   "outputs": [],
   "source": []
  }
 ],
 "metadata": {
  "kaggle": {
   "accelerator": "none",
   "dataSources": [
    {
     "datasetId": 5779086,
     "sourceId": 9496884,
     "sourceType": "datasetVersion"
    }
   ],
   "dockerImageVersionId": 31012,
   "isGpuEnabled": false,
   "isInternetEnabled": false,
   "language": "python",
   "sourceType": "notebook"
  },
  "kernelspec": {
   "display_name": "Python 3",
   "language": "python",
   "name": "python3"
  },
  "language_info": {
   "codemirror_mode": {
    "name": "ipython",
    "version": 3
   },
   "file_extension": ".py",
   "mimetype": "text/x-python",
   "name": "python",
   "nbconvert_exporter": "python",
   "pygments_lexer": "ipython3",
   "version": "3.11.11"
  },
  "papermill": {
   "default_parameters": {},
   "duration": 12.534088,
   "end_time": "2025-04-16T21:16:47.379482",
   "environment_variables": {},
   "exception": null,
   "input_path": "__notebook__.ipynb",
   "output_path": "__notebook__.ipynb",
   "parameters": {},
   "start_time": "2025-04-16T21:16:34.845394",
   "version": "2.6.0"
  }
 },
 "nbformat": 4,
 "nbformat_minor": 5
}
